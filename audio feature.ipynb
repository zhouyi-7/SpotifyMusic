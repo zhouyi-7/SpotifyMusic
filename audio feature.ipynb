{
 "cells": [
  {
   "cell_type": "code",
   "execution_count": 1,
   "id": "f7891c01",
   "metadata": {},
   "outputs": [],
   "source": [
    "import pandas as pd\n",
    "import numpy as np\n",
    "import warnings\n",
    "import matplotlib\n",
    "import matplotlib.pyplot as plt\n",
    "import seaborn as sns\n",
    "from sklearn.model_selection import train_test_split\n",
    "from sklearn.linear_model import LinearRegression\n",
    "import json\n",
    "#from spotify_utils import get_playlist_df\n",
    "import spotipy\n",
    "from spotipy.oauth2 import SpotifyClientCredentials\n",
    "import time\n",
    "import os\n",
    "import re\n",
    "import matplotlib.pyplot as plt\n",
    "%matplotlib inline\n",
    "# machine learning\n",
    "from sklearn.linear_model import LogisticRegression\n",
    "from sklearn.svm import SVC, LinearSVC\n",
    "from sklearn.ensemble import RandomForestClassifier\n",
    "from sklearn.neighbors import KNeighborsClassifier\n",
    "from sklearn.naive_bayes import GaussianNB\n",
    "from sklearn.linear_model import Perceptron\n",
    "from sklearn.linear_model import SGDClassifier\n",
    "from sklearn.tree import DecisionTreeClassifier\n",
    "from sklearn import tree\n",
    "\n",
    "from sklearn.model_selection import train_test_split\n",
    "from sklearn.metrics import accuracy_score, confusion_matrix\n",
    "\n",
    "from sklearn.metrics import classification_report"
   ]
  },
  {
   "cell_type": "code",
   "execution_count": 2,
   "id": "aabbcf06",
   "metadata": {},
   "outputs": [
    {
     "name": "stdout",
     "output_type": "stream",
     "text": [
      "Collecting pandas-profiling\n",
      "  Using cached pandas_profiling-3.1.0-py2.py3-none-any.whl (261 kB)\n",
      "Requirement already satisfied: PyYAML>=5.0.0 in e:\\anaconda3\\lib\\site-packages (from pandas-profiling) (6.0)\n",
      "Requirement already satisfied: multimethod>=1.4 in e:\\anaconda3\\lib\\site-packages (from pandas-profiling) (1.7)\n",
      "Requirement already satisfied: markupsafe~=2.0.1 in e:\\anaconda3\\lib\\site-packages (from pandas-profiling) (2.0.1)\n",
      "Collecting htmlmin>=0.1.12\n",
      "  Using cached htmlmin-0.1.12-py3-none-any.whl\n",
      "Requirement already satisfied: missingno>=0.4.2 in e:\\anaconda3\\lib\\site-packages (from pandas-profiling) (0.5.1)\n",
      "Collecting joblib~=1.0.1\n",
      "  Using cached joblib-1.0.1-py3-none-any.whl (303 kB)\n",
      "Collecting pydantic>=1.8.1\n",
      "  Using cached pydantic-1.9.0-cp39-cp39-win_amd64.whl (2.1 MB)\n",
      "Collecting phik>=0.11.1\n",
      "  Using cached phik-0.12.0-cp39-cp39-win_amd64.whl (659 kB)\n",
      "Requirement already satisfied: requests>=2.24.0 in e:\\anaconda3\\lib\\site-packages (from pandas-profiling) (2.26.0)\n",
      "Requirement already satisfied: jinja2>=2.11.1 in e:\\anaconda3\\lib\\site-packages (from pandas-profiling) (2.11.3)\n",
      "Requirement already satisfied: tangled-up-in-unicode==0.1.0 in e:\\anaconda3\\lib\\site-packages (from pandas-profiling) (0.1.0)\n",
      "Requirement already satisfied: tqdm>=4.48.2 in e:\\anaconda3\\lib\\site-packages (from pandas-profiling) (4.62.3)\n",
      "Requirement already satisfied: visions[type_image_path]==0.7.4 in e:\\anaconda3\\lib\\site-packages (from pandas-profiling) (0.7.4)\n",
      "Requirement already satisfied: numpy>=1.16.0 in e:\\anaconda3\\lib\\site-packages (from pandas-profiling) (1.20.3)\n",
      "Requirement already satisfied: seaborn>=0.10.1 in e:\\anaconda3\\lib\\site-packages (from pandas-profiling) (0.11.2)\n",
      "Requirement already satisfied: pandas!=1.0.0,!=1.0.1,!=1.0.2,!=1.1.0,>=0.25.3 in e:\\anaconda3\\lib\\site-packages (from pandas-profiling) (1.3.4)\n",
      "Requirement already satisfied: scipy>=1.4.1 in e:\\anaconda3\\lib\\site-packages (from pandas-profiling) (1.7.1)\n",
      "Requirement already satisfied: matplotlib>=3.2.0 in e:\\anaconda3\\lib\\site-packages (from pandas-profiling) (3.4.3)\n",
      "Requirement already satisfied: networkx>=2.4 in e:\\anaconda3\\lib\\site-packages (from visions[type_image_path]==0.7.4->pandas-profiling) (2.6.3)\n",
      "Requirement already satisfied: attrs>=19.3.0 in e:\\anaconda3\\lib\\site-packages (from visions[type_image_path]==0.7.4->pandas-profiling) (21.2.0)\n",
      "Requirement already satisfied: Pillow in e:\\anaconda3\\lib\\site-packages (from visions[type_image_path]==0.7.4->pandas-profiling) (8.4.0)\n",
      "Collecting imagehash\n",
      "  Using cached ImageHash-4.2.1-py2.py3-none-any.whl\n",
      "Requirement already satisfied: cycler>=0.10 in e:\\anaconda3\\lib\\site-packages (from matplotlib>=3.2.0->pandas-profiling) (0.10.0)\n",
      "Requirement already satisfied: python-dateutil>=2.7 in e:\\anaconda3\\lib\\site-packages (from matplotlib>=3.2.0->pandas-profiling) (2.8.2)\n",
      "Requirement already satisfied: pyparsing>=2.2.1 in e:\\anaconda3\\lib\\site-packages (from matplotlib>=3.2.0->pandas-profiling) (3.0.4)\n",
      "Requirement already satisfied: kiwisolver>=1.0.1 in e:\\anaconda3\\lib\\site-packages (from matplotlib>=3.2.0->pandas-profiling) (1.3.1)\n",
      "Requirement already satisfied: six in e:\\anaconda3\\lib\\site-packages (from cycler>=0.10->matplotlib>=3.2.0->pandas-profiling) (1.16.0)\n",
      "Requirement already satisfied: pytz>=2017.3 in e:\\anaconda3\\lib\\site-packages (from pandas!=1.0.0,!=1.0.1,!=1.0.2,!=1.1.0,>=0.25.3->pandas-profiling) (2021.3)\n",
      "Requirement already satisfied: typing-extensions>=3.7.4.3 in e:\\anaconda3\\lib\\site-packages (from pydantic>=1.8.1->pandas-profiling) (3.10.0.2)\n",
      "Requirement already satisfied: charset-normalizer~=2.0.0 in e:\\anaconda3\\lib\\site-packages (from requests>=2.24.0->pandas-profiling) (2.0.4)\n",
      "Requirement already satisfied: urllib3<1.27,>=1.21.1 in e:\\anaconda3\\lib\\site-packages (from requests>=2.24.0->pandas-profiling) (1.26.7)\n",
      "Requirement already satisfied: idna<4,>=2.5 in e:\\anaconda3\\lib\\site-packages (from requests>=2.24.0->pandas-profiling) (3.2)\n",
      "Requirement already satisfied: certifi>=2017.4.17 in e:\\anaconda3\\lib\\site-packages (from requests>=2.24.0->pandas-profiling) (2021.10.8)\n",
      "Requirement already satisfied: colorama in e:\\anaconda3\\lib\\site-packages (from tqdm>=4.48.2->pandas-profiling) (0.4.4)\n",
      "Requirement already satisfied: PyWavelets in e:\\anaconda3\\lib\\site-packages (from imagehash->visions[type_image_path]==0.7.4->pandas-profiling) (1.1.1)\n",
      "Installing collected packages: joblib, imagehash, pydantic, phik, htmlmin, pandas-profiling\n",
      "  Attempting uninstall: joblib\n",
      "    Found existing installation: joblib 1.1.0\n",
      "    Uninstalling joblib-1.1.0:\n",
      "      Successfully uninstalled joblib-1.1.0\n",
      "Successfully installed htmlmin-0.1.12 imagehash-4.2.1 joblib-1.0.1 pandas-profiling-3.1.0 phik-0.12.0 pydantic-1.9.0\n",
      "Requirement already satisfied: preprocessing in e:\\anaconda3\\lib\\site-packages (0.1.13)\n",
      "Requirement already satisfied: nltk==3.2.4 in e:\\anaconda3\\lib\\site-packages (from preprocessing) (3.2.4)\n",
      "Requirement already satisfied: sphinx-rtd-theme==0.2.4 in e:\\anaconda3\\lib\\site-packages (from preprocessing) (0.2.4)\n",
      "Requirement already satisfied: six in e:\\anaconda3\\lib\\site-packages (from nltk==3.2.4->preprocessing) (1.16.0)\n"
     ]
    }
   ],
   "source": [
    "from sklearn.model_selection import train_test_split\n",
    "#from pandas_profiling import ProfileReport\n",
    "!pip install pandas-profiling\n",
    "#from preprocessing import PreprocessSongsDecadePrediction\n",
    "!pip install preprocessing\n",
    "from sklearn.metrics import classification_report\n",
    "from sklearn.tree import plot_tree, export_text, export_graphviz\n",
    "from sklearn.pipeline import Pipeline\n",
    "from sklearn.model_selection import GridSearchCV\n",
    "\n",
    "from sklearn.metrics import r2_score, mean_squared_error\n",
    "from sklearn.model_selection import TimeSeriesSplit\n",
    "import numpy as np\n",
    "\n",
    "from sklearn.tree import DecisionTreeClassifier\n",
    "from sklearn.ensemble import RandomForestClassifier\n",
    "from sklearn.ensemble import AdaBoostClassifier\n",
    "from sklearn.ensemble import GradientBoostingClassifier\n",
    "\n",
    "\n",
    "from sklearn.preprocessing import StandardScaler\n",
    "from sklearn.preprocessing import Normalizer"
   ]
  },
  {
   "cell_type": "code",
   "execution_count": 3,
   "id": "7d9f08ea",
   "metadata": {},
   "outputs": [],
   "source": [
    "from sklearn import preprocessing\n",
    "from sklearn import model_selection\n",
    "from sklearn import linear_model\n",
    "from sklearn import svm\n",
    "from sklearn.model_selection import cross_validate\n",
    "from sklearn.metrics import mean_squared_error\n",
    "from sklearn import ensemble"
   ]
  },
  {
   "cell_type": "code",
   "execution_count": 4,
   "id": "ce2c402c",
   "metadata": {},
   "outputs": [],
   "source": [
    "## Models\n",
    "from sklearn.linear_model import LinearRegression, Lasso\n",
    "from sklearn.neighbors import KNeighborsRegressor\n",
    "\n",
    "## Model selection and fine tuning\n",
    "from sklearn.model_selection import train_test_split, RandomizedSearchCV\n",
    "from sklearn.ensemble import ExtraTreesRegressor\n",
    "from sklearn.metrics import mean_squared_error\n",
    "from sklearn.datasets import make_classification\n",
    "from sklearn.ensemble import RandomForestClassifier"
   ]
  },
  {
   "cell_type": "code",
   "execution_count": 5,
   "id": "abc40650",
   "metadata": {},
   "outputs": [
    {
     "name": "stdout",
     "output_type": "stream",
     "text": [
      "Requirement already satisfied: imbalanced-learn in e:\\anaconda3\\lib\\site-packages (0.7.0)\n",
      "Requirement already satisfied: numpy>=1.13.3 in e:\\anaconda3\\lib\\site-packages (from imbalanced-learn) (1.20.3)\n",
      "Requirement already satisfied: scipy>=0.19.1 in e:\\anaconda3\\lib\\site-packages (from imbalanced-learn) (1.7.1)\n",
      "Requirement already satisfied: scikit-learn>=0.23 in e:\\anaconda3\\lib\\site-packages (from imbalanced-learn) (0.24.2)\n",
      "Requirement already satisfied: joblib>=0.11 in e:\\anaconda3\\lib\\site-packages (from imbalanced-learn) (1.0.1)\n",
      "Requirement already satisfied: threadpoolctl>=2.0.0 in e:\\anaconda3\\lib\\site-packages (from scikit-learn>=0.23->imbalanced-learn) (2.2.0)\n"
     ]
    }
   ],
   "source": [
    "!pip install imbalanced-learn"
   ]
  },
  {
   "cell_type": "code",
   "execution_count": 6,
   "id": "ac6f0833",
   "metadata": {},
   "outputs": [],
   "source": [
    "spotify=pd.read_excel(\"C:/Users/Windows10/Desktop/combined_playlist.xlsx\")"
   ]
  },
  {
   "cell_type": "code",
   "execution_count": 7,
   "id": "6e6a62d4",
   "metadata": {},
   "outputs": [
    {
     "data": {
      "text/html": [
       "<div>\n",
       "<style scoped>\n",
       "    .dataframe tbody tr th:only-of-type {\n",
       "        vertical-align: middle;\n",
       "    }\n",
       "\n",
       "    .dataframe tbody tr th {\n",
       "        vertical-align: top;\n",
       "    }\n",
       "\n",
       "    .dataframe thead th {\n",
       "        text-align: right;\n",
       "    }\n",
       "</style>\n",
       "<table border=\"1\" class=\"dataframe\">\n",
       "  <thead>\n",
       "    <tr style=\"text-align: right;\">\n",
       "      <th></th>\n",
       "      <th>index</th>\n",
       "      <th>Name</th>\n",
       "      <th>Album</th>\n",
       "      <th>Artist</th>\n",
       "      <th>Top_Genre</th>\n",
       "      <th>Release_date</th>\n",
       "      <th>Length</th>\n",
       "      <th>Popularity</th>\n",
       "      <th>Acousticness</th>\n",
       "      <th>Danceability</th>\n",
       "      <th>Energy</th>\n",
       "      <th>Instrumentalness</th>\n",
       "      <th>Liveness</th>\n",
       "      <th>Loudness</th>\n",
       "      <th>Speechiness</th>\n",
       "      <th>Tempo</th>\n",
       "      <th>Valence</th>\n",
       "      <th>Time Signature</th>\n",
       "    </tr>\n",
       "  </thead>\n",
       "  <tbody>\n",
       "    <tr>\n",
       "      <th>0</th>\n",
       "      <td>1</td>\n",
       "      <td>drivers license</td>\n",
       "      <td>drivers license</td>\n",
       "      <td>Olivia Rodrigo</td>\n",
       "      <td>pop</td>\n",
       "      <td>2021-01-08</td>\n",
       "      <td>242013</td>\n",
       "      <td>33</td>\n",
       "      <td>0.7210</td>\n",
       "      <td>0.585</td>\n",
       "      <td>0.436</td>\n",
       "      <td>0.000013</td>\n",
       "      <td>0.1050</td>\n",
       "      <td>-8.761</td>\n",
       "      <td>0.0601</td>\n",
       "      <td>143.874</td>\n",
       "      <td>0.132</td>\n",
       "      <td>4</td>\n",
       "    </tr>\n",
       "    <tr>\n",
       "      <th>1</th>\n",
       "      <td>2</td>\n",
       "      <td>Peaches (feat. Daniel Caesar &amp; Giveon)</td>\n",
       "      <td>Justice</td>\n",
       "      <td>Justin Bieber</td>\n",
       "      <td>canadian pop</td>\n",
       "      <td>2021-03-19</td>\n",
       "      <td>198081</td>\n",
       "      <td>90</td>\n",
       "      <td>0.3210</td>\n",
       "      <td>0.677</td>\n",
       "      <td>0.696</td>\n",
       "      <td>0.000000</td>\n",
       "      <td>0.4200</td>\n",
       "      <td>-6.181</td>\n",
       "      <td>0.1190</td>\n",
       "      <td>90.030</td>\n",
       "      <td>0.464</td>\n",
       "      <td>4</td>\n",
       "    </tr>\n",
       "    <tr>\n",
       "      <th>2</th>\n",
       "      <td>3</td>\n",
       "      <td>Heat Waves</td>\n",
       "      <td>Pop Hits 2021</td>\n",
       "      <td>Various Artists</td>\n",
       "      <td>NaN</td>\n",
       "      <td>2021-11-26</td>\n",
       "      <td>238805</td>\n",
       "      <td>21</td>\n",
       "      <td>0.4400</td>\n",
       "      <td>0.761</td>\n",
       "      <td>0.525</td>\n",
       "      <td>0.000007</td>\n",
       "      <td>0.0921</td>\n",
       "      <td>-6.900</td>\n",
       "      <td>0.0944</td>\n",
       "      <td>80.870</td>\n",
       "      <td>0.531</td>\n",
       "      <td>4</td>\n",
       "    </tr>\n",
       "    <tr>\n",
       "      <th>3</th>\n",
       "      <td>4</td>\n",
       "      <td>Happier Than Ever</td>\n",
       "      <td>Happier Than Ever</td>\n",
       "      <td>Billie Eilish</td>\n",
       "      <td>art pop</td>\n",
       "      <td>2021-07-30</td>\n",
       "      <td>298899</td>\n",
       "      <td>92</td>\n",
       "      <td>0.7670</td>\n",
       "      <td>0.332</td>\n",
       "      <td>0.225</td>\n",
       "      <td>0.003490</td>\n",
       "      <td>0.1280</td>\n",
       "      <td>-8.697</td>\n",
       "      <td>0.0348</td>\n",
       "      <td>81.055</td>\n",
       "      <td>0.297</td>\n",
       "      <td>3</td>\n",
       "    </tr>\n",
       "    <tr>\n",
       "      <th>4</th>\n",
       "      <td>5</td>\n",
       "      <td>STAY (with Justin Bieber)</td>\n",
       "      <td>F*CK LOVE 3: OVER YOU</td>\n",
       "      <td>The Kid LAROI</td>\n",
       "      <td>australian hip hop</td>\n",
       "      <td>2021-07-23</td>\n",
       "      <td>141805</td>\n",
       "      <td>92</td>\n",
       "      <td>0.0383</td>\n",
       "      <td>0.591</td>\n",
       "      <td>0.764</td>\n",
       "      <td>0.000000</td>\n",
       "      <td>0.1030</td>\n",
       "      <td>-5.484</td>\n",
       "      <td>0.0483</td>\n",
       "      <td>169.928</td>\n",
       "      <td>0.478</td>\n",
       "      <td>4</td>\n",
       "    </tr>\n",
       "  </tbody>\n",
       "</table>\n",
       "</div>"
      ],
      "text/plain": [
       "   index                                    Name                  Album  \\\n",
       "0      1                         drivers license        drivers license   \n",
       "1      2  Peaches (feat. Daniel Caesar & Giveon)                Justice   \n",
       "2      3                              Heat Waves          Pop Hits 2021   \n",
       "3      4                       Happier Than Ever      Happier Than Ever   \n",
       "4      5               STAY (with Justin Bieber)  F*CK LOVE 3: OVER YOU   \n",
       "\n",
       "            Artist           Top_Genre Release_date  Length  Popularity  \\\n",
       "0   Olivia Rodrigo                 pop   2021-01-08  242013          33   \n",
       "1    Justin Bieber        canadian pop   2021-03-19  198081          90   \n",
       "2  Various Artists                 NaN   2021-11-26  238805          21   \n",
       "3    Billie Eilish             art pop   2021-07-30  298899          92   \n",
       "4    The Kid LAROI  australian hip hop   2021-07-23  141805          92   \n",
       "\n",
       "   Acousticness  Danceability  Energy  Instrumentalness  Liveness  Loudness  \\\n",
       "0        0.7210         0.585   0.436          0.000013    0.1050    -8.761   \n",
       "1        0.3210         0.677   0.696          0.000000    0.4200    -6.181   \n",
       "2        0.4400         0.761   0.525          0.000007    0.0921    -6.900   \n",
       "3        0.7670         0.332   0.225          0.003490    0.1280    -8.697   \n",
       "4        0.0383         0.591   0.764          0.000000    0.1030    -5.484   \n",
       "\n",
       "   Speechiness    Tempo  Valence  Time Signature  \n",
       "0       0.0601  143.874    0.132               4  \n",
       "1       0.1190   90.030    0.464               4  \n",
       "2       0.0944   80.870    0.531               4  \n",
       "3       0.0348   81.055    0.297               3  \n",
       "4       0.0483  169.928    0.478               4  "
      ]
     },
     "execution_count": 7,
     "metadata": {},
     "output_type": "execute_result"
    }
   ],
   "source": [
    "spotify.head()"
   ]
  },
  {
   "cell_type": "code",
   "execution_count": 8,
   "id": "95cc172c",
   "metadata": {},
   "outputs": [],
   "source": [
    "spotify.rename(columns = {'Time Signature': 'Time_Signature'}, inplace = True)"
   ]
  },
  {
   "cell_type": "code",
   "execution_count": 9,
   "id": "87281c14",
   "metadata": {},
   "outputs": [],
   "source": [
    "spotify['is_popular'] = spotify['Popularity'].apply(lambda x: True if x>50 else False)"
   ]
  },
  {
   "cell_type": "code",
   "execution_count": 10,
   "id": "f002cdc5",
   "metadata": {},
   "outputs": [
    {
     "data": {
      "text/html": [
       "<div>\n",
       "<style scoped>\n",
       "    .dataframe tbody tr th:only-of-type {\n",
       "        vertical-align: middle;\n",
       "    }\n",
       "\n",
       "    .dataframe tbody tr th {\n",
       "        vertical-align: top;\n",
       "    }\n",
       "\n",
       "    .dataframe thead th {\n",
       "        text-align: right;\n",
       "    }\n",
       "</style>\n",
       "<table border=\"1\" class=\"dataframe\">\n",
       "  <thead>\n",
       "    <tr style=\"text-align: right;\">\n",
       "      <th></th>\n",
       "      <th>index</th>\n",
       "      <th>Name</th>\n",
       "      <th>Album</th>\n",
       "      <th>Artist</th>\n",
       "      <th>Top_Genre</th>\n",
       "      <th>Release_date</th>\n",
       "      <th>Length</th>\n",
       "      <th>Popularity</th>\n",
       "      <th>Acousticness</th>\n",
       "      <th>Danceability</th>\n",
       "      <th>Energy</th>\n",
       "      <th>Instrumentalness</th>\n",
       "      <th>Liveness</th>\n",
       "      <th>Loudness</th>\n",
       "      <th>Speechiness</th>\n",
       "      <th>Tempo</th>\n",
       "      <th>Valence</th>\n",
       "      <th>Time_Signature</th>\n",
       "      <th>is_popular</th>\n",
       "    </tr>\n",
       "  </thead>\n",
       "  <tbody>\n",
       "    <tr>\n",
       "      <th>0</th>\n",
       "      <td>1</td>\n",
       "      <td>drivers license</td>\n",
       "      <td>drivers license</td>\n",
       "      <td>Olivia Rodrigo</td>\n",
       "      <td>pop</td>\n",
       "      <td>2021-01-08</td>\n",
       "      <td>242013</td>\n",
       "      <td>33</td>\n",
       "      <td>0.7210</td>\n",
       "      <td>0.585</td>\n",
       "      <td>0.436</td>\n",
       "      <td>0.000013</td>\n",
       "      <td>0.1050</td>\n",
       "      <td>-8.761</td>\n",
       "      <td>0.0601</td>\n",
       "      <td>143.874</td>\n",
       "      <td>0.132</td>\n",
       "      <td>4</td>\n",
       "      <td>False</td>\n",
       "    </tr>\n",
       "    <tr>\n",
       "      <th>1</th>\n",
       "      <td>2</td>\n",
       "      <td>Peaches (feat. Daniel Caesar &amp; Giveon)</td>\n",
       "      <td>Justice</td>\n",
       "      <td>Justin Bieber</td>\n",
       "      <td>canadian pop</td>\n",
       "      <td>2021-03-19</td>\n",
       "      <td>198081</td>\n",
       "      <td>90</td>\n",
       "      <td>0.3210</td>\n",
       "      <td>0.677</td>\n",
       "      <td>0.696</td>\n",
       "      <td>0.000000</td>\n",
       "      <td>0.4200</td>\n",
       "      <td>-6.181</td>\n",
       "      <td>0.1190</td>\n",
       "      <td>90.030</td>\n",
       "      <td>0.464</td>\n",
       "      <td>4</td>\n",
       "      <td>True</td>\n",
       "    </tr>\n",
       "    <tr>\n",
       "      <th>2</th>\n",
       "      <td>3</td>\n",
       "      <td>Heat Waves</td>\n",
       "      <td>Pop Hits 2021</td>\n",
       "      <td>Various Artists</td>\n",
       "      <td>NaN</td>\n",
       "      <td>2021-11-26</td>\n",
       "      <td>238805</td>\n",
       "      <td>21</td>\n",
       "      <td>0.4400</td>\n",
       "      <td>0.761</td>\n",
       "      <td>0.525</td>\n",
       "      <td>0.000007</td>\n",
       "      <td>0.0921</td>\n",
       "      <td>-6.900</td>\n",
       "      <td>0.0944</td>\n",
       "      <td>80.870</td>\n",
       "      <td>0.531</td>\n",
       "      <td>4</td>\n",
       "      <td>False</td>\n",
       "    </tr>\n",
       "    <tr>\n",
       "      <th>3</th>\n",
       "      <td>4</td>\n",
       "      <td>Happier Than Ever</td>\n",
       "      <td>Happier Than Ever</td>\n",
       "      <td>Billie Eilish</td>\n",
       "      <td>art pop</td>\n",
       "      <td>2021-07-30</td>\n",
       "      <td>298899</td>\n",
       "      <td>92</td>\n",
       "      <td>0.7670</td>\n",
       "      <td>0.332</td>\n",
       "      <td>0.225</td>\n",
       "      <td>0.003490</td>\n",
       "      <td>0.1280</td>\n",
       "      <td>-8.697</td>\n",
       "      <td>0.0348</td>\n",
       "      <td>81.055</td>\n",
       "      <td>0.297</td>\n",
       "      <td>3</td>\n",
       "      <td>True</td>\n",
       "    </tr>\n",
       "    <tr>\n",
       "      <th>4</th>\n",
       "      <td>5</td>\n",
       "      <td>STAY (with Justin Bieber)</td>\n",
       "      <td>F*CK LOVE 3: OVER YOU</td>\n",
       "      <td>The Kid LAROI</td>\n",
       "      <td>australian hip hop</td>\n",
       "      <td>2021-07-23</td>\n",
       "      <td>141805</td>\n",
       "      <td>92</td>\n",
       "      <td>0.0383</td>\n",
       "      <td>0.591</td>\n",
       "      <td>0.764</td>\n",
       "      <td>0.000000</td>\n",
       "      <td>0.1030</td>\n",
       "      <td>-5.484</td>\n",
       "      <td>0.0483</td>\n",
       "      <td>169.928</td>\n",
       "      <td>0.478</td>\n",
       "      <td>4</td>\n",
       "      <td>True</td>\n",
       "    </tr>\n",
       "  </tbody>\n",
       "</table>\n",
       "</div>"
      ],
      "text/plain": [
       "   index                                    Name                  Album  \\\n",
       "0      1                         drivers license        drivers license   \n",
       "1      2  Peaches (feat. Daniel Caesar & Giveon)                Justice   \n",
       "2      3                              Heat Waves          Pop Hits 2021   \n",
       "3      4                       Happier Than Ever      Happier Than Ever   \n",
       "4      5               STAY (with Justin Bieber)  F*CK LOVE 3: OVER YOU   \n",
       "\n",
       "            Artist           Top_Genre Release_date  Length  Popularity  \\\n",
       "0   Olivia Rodrigo                 pop   2021-01-08  242013          33   \n",
       "1    Justin Bieber        canadian pop   2021-03-19  198081          90   \n",
       "2  Various Artists                 NaN   2021-11-26  238805          21   \n",
       "3    Billie Eilish             art pop   2021-07-30  298899          92   \n",
       "4    The Kid LAROI  australian hip hop   2021-07-23  141805          92   \n",
       "\n",
       "   Acousticness  Danceability  Energy  Instrumentalness  Liveness  Loudness  \\\n",
       "0        0.7210         0.585   0.436          0.000013    0.1050    -8.761   \n",
       "1        0.3210         0.677   0.696          0.000000    0.4200    -6.181   \n",
       "2        0.4400         0.761   0.525          0.000007    0.0921    -6.900   \n",
       "3        0.7670         0.332   0.225          0.003490    0.1280    -8.697   \n",
       "4        0.0383         0.591   0.764          0.000000    0.1030    -5.484   \n",
       "\n",
       "   Speechiness    Tempo  Valence  Time_Signature  is_popular  \n",
       "0       0.0601  143.874    0.132               4       False  \n",
       "1       0.1190   90.030    0.464               4        True  \n",
       "2       0.0944   80.870    0.531               4       False  \n",
       "3       0.0348   81.055    0.297               3        True  \n",
       "4       0.0483  169.928    0.478               4        True  "
      ]
     },
     "execution_count": 10,
     "metadata": {},
     "output_type": "execute_result"
    }
   ],
   "source": [
    "spotify.head()"
   ]
  },
  {
   "cell_type": "code",
   "execution_count": 11,
   "id": "023854e7",
   "metadata": {},
   "outputs": [],
   "source": [
    "#split the data\n",
    "features= [\"Length\",  \"Acousticness\", \"Danceability\", \"Energy\",\"Instrumentalness\",\"Liveness\",'Loudness' , \"Speechiness\", \"Tempo\", \"Valence\", \"Time_Signature\"]\n",
    "X = spotify[features]\n",
    "y = spotify['is_popular']"
   ]
  },
  {
   "cell_type": "code",
   "execution_count": 12,
   "id": "fb3e3085",
   "metadata": {},
   "outputs": [
    {
     "data": {
      "text/plain": [
       "RandomForestClassifier(random_state=40)"
      ]
     },
     "execution_count": 12,
     "metadata": {},
     "output_type": "execute_result"
    }
   ],
   "source": [
    "X_train, X_test, y_train, y_test = train_test_split(X, y, stratify=y, random_state=0)\n",
    "#reg = ExtraTreesRegressor(n_estimators=100, random_state=0).fit(X_train, y_train)\n",
    "feature_names = [X_train.columns]\n",
    "forest = RandomForestClassifier(random_state=40)\n",
    "forest.fit(X_train, y_train)"
   ]
  },
  {
   "cell_type": "code",
   "execution_count": 13,
   "id": "35e10da0",
   "metadata": {},
   "outputs": [
    {
     "name": "stdout",
     "output_type": "stream",
     "text": [
      "Elapsed time to compute the importances: 0.017 seconds\n"
     ]
    }
   ],
   "source": [
    "import time\n",
    "import numpy as np\n",
    "\n",
    "start_time = time.time()\n",
    "importances = forest.feature_importances_\n",
    "std = np.std([tree.feature_importances_ for tree in forest.estimators_], axis=0)\n",
    "elapsed_time = time.time() - start_time\n",
    "\n",
    "print(f\"Elapsed time to compute the importances: {elapsed_time:.3f} seconds\")"
   ]
  },
  {
   "cell_type": "code",
   "execution_count": 14,
   "id": "73dd16af",
   "metadata": {},
   "outputs": [
    {
     "data": {
      "image/png": "[encoded data removed]",
      "text/plain": [
       "<Figure size 432x288 with 1 Axes>"
      ]
     },
     "metadata": {
      "needs_background": "light"
     },
     "output_type": "display_data"
    }
   ],
   "source": [
    "forest_importances = pd.Series(importances, index=feature_names)\n",
    "\n",
    "fig, ax = plt.subplots()\n",
    "forest_importances.plot.bar(yerr=std, ax=ax)\n",
    "ax.set_title(\"Feature importances\")\n",
    "#ax.set_ylabel(\"Mean decrease in impurity\")\n",
    "fig.tight_layout()"
   ]
  },
  {
   "cell_type": "markdown",
   "id": "9bce9273",
   "metadata": {},
   "source": [
    "From the feature importance, we can conclude that the importance of time signature is obviously lower than other features, so we decide to drop this variable."
   ]
  },
  {
   "cell_type": "code",
   "execution_count": 15,
   "id": "eb263a58",
   "metadata": {},
   "outputs": [
    {
     "data": {
      "text/html": [
       "<div>\n",
       "<style scoped>\n",
       "    .dataframe tbody tr th:only-of-type {\n",
       "        vertical-align: middle;\n",
       "    }\n",
       "\n",
       "    .dataframe tbody tr th {\n",
       "        vertical-align: top;\n",
       "    }\n",
       "\n",
       "    .dataframe thead th {\n",
       "        text-align: right;\n",
       "    }\n",
       "</style>\n",
       "<table border=\"1\" class=\"dataframe\">\n",
       "  <thead>\n",
       "    <tr style=\"text-align: right;\">\n",
       "      <th></th>\n",
       "      <th>Length</th>\n",
       "      <th>Acousticness</th>\n",
       "      <th>Danceability</th>\n",
       "      <th>Energy</th>\n",
       "      <th>Instrumentalness</th>\n",
       "      <th>Liveness</th>\n",
       "      <th>Loudness</th>\n",
       "      <th>Speechiness</th>\n",
       "      <th>Tempo</th>\n",
       "      <th>Valence</th>\n",
       "    </tr>\n",
       "  </thead>\n",
       "  <tbody>\n",
       "    <tr>\n",
       "      <th>0</th>\n",
       "      <td>242013</td>\n",
       "      <td>0.721000</td>\n",
       "      <td>0.585</td>\n",
       "      <td>0.436</td>\n",
       "      <td>0.000013</td>\n",
       "      <td>0.1050</td>\n",
       "      <td>-8.761</td>\n",
       "      <td>0.0601</td>\n",
       "      <td>143.874</td>\n",
       "      <td>0.132</td>\n",
       "    </tr>\n",
       "    <tr>\n",
       "      <th>1</th>\n",
       "      <td>198081</td>\n",
       "      <td>0.321000</td>\n",
       "      <td>0.677</td>\n",
       "      <td>0.696</td>\n",
       "      <td>0.000000</td>\n",
       "      <td>0.4200</td>\n",
       "      <td>-6.181</td>\n",
       "      <td>0.1190</td>\n",
       "      <td>90.030</td>\n",
       "      <td>0.464</td>\n",
       "    </tr>\n",
       "    <tr>\n",
       "      <th>2</th>\n",
       "      <td>238805</td>\n",
       "      <td>0.440000</td>\n",
       "      <td>0.761</td>\n",
       "      <td>0.525</td>\n",
       "      <td>0.000007</td>\n",
       "      <td>0.0921</td>\n",
       "      <td>-6.900</td>\n",
       "      <td>0.0944</td>\n",
       "      <td>80.870</td>\n",
       "      <td>0.531</td>\n",
       "    </tr>\n",
       "    <tr>\n",
       "      <th>3</th>\n",
       "      <td>298899</td>\n",
       "      <td>0.767000</td>\n",
       "      <td>0.332</td>\n",
       "      <td>0.225</td>\n",
       "      <td>0.003490</td>\n",
       "      <td>0.1280</td>\n",
       "      <td>-8.697</td>\n",
       "      <td>0.0348</td>\n",
       "      <td>81.055</td>\n",
       "      <td>0.297</td>\n",
       "    </tr>\n",
       "    <tr>\n",
       "      <th>4</th>\n",
       "      <td>141805</td>\n",
       "      <td>0.038300</td>\n",
       "      <td>0.591</td>\n",
       "      <td>0.764</td>\n",
       "      <td>0.000000</td>\n",
       "      <td>0.1030</td>\n",
       "      <td>-5.484</td>\n",
       "      <td>0.0483</td>\n",
       "      <td>169.928</td>\n",
       "      <td>0.478</td>\n",
       "    </tr>\n",
       "    <tr>\n",
       "      <th>...</th>\n",
       "      <td>...</td>\n",
       "      <td>...</td>\n",
       "      <td>...</td>\n",
       "      <td>...</td>\n",
       "      <td>...</td>\n",
       "      <td>...</td>\n",
       "      <td>...</td>\n",
       "      <td>...</td>\n",
       "      <td>...</td>\n",
       "      <td>...</td>\n",
       "    </tr>\n",
       "    <tr>\n",
       "      <th>391</th>\n",
       "      <td>197126</td>\n",
       "      <td>0.000316</td>\n",
       "      <td>0.532</td>\n",
       "      <td>0.891</td>\n",
       "      <td>0.000164</td>\n",
       "      <td>0.0836</td>\n",
       "      <td>-5.349</td>\n",
       "      <td>0.0551</td>\n",
       "      <td>106.003</td>\n",
       "      <td>0.487</td>\n",
       "    </tr>\n",
       "    <tr>\n",
       "      <th>392</th>\n",
       "      <td>204745</td>\n",
       "      <td>0.008930</td>\n",
       "      <td>0.463</td>\n",
       "      <td>0.908</td>\n",
       "      <td>0.000003</td>\n",
       "      <td>0.3660</td>\n",
       "      <td>-4.373</td>\n",
       "      <td>0.0756</td>\n",
       "      <td>99.993</td>\n",
       "      <td>0.459</td>\n",
       "    </tr>\n",
       "    <tr>\n",
       "      <th>393</th>\n",
       "      <td>211235</td>\n",
       "      <td>0.079700</td>\n",
       "      <td>0.398</td>\n",
       "      <td>0.934</td>\n",
       "      <td>0.000000</td>\n",
       "      <td>0.2450</td>\n",
       "      <td>-3.581</td>\n",
       "      <td>0.0752</td>\n",
       "      <td>169.898</td>\n",
       "      <td>0.629</td>\n",
       "    </tr>\n",
       "    <tr>\n",
       "      <th>394</th>\n",
       "      <td>197260</td>\n",
       "      <td>0.003330</td>\n",
       "      <td>0.462</td>\n",
       "      <td>0.973</td>\n",
       "      <td>0.000129</td>\n",
       "      <td>0.0563</td>\n",
       "      <td>-3.878</td>\n",
       "      <td>0.1020</td>\n",
       "      <td>109.548</td>\n",
       "      <td>0.111</td>\n",
       "    </tr>\n",
       "    <tr>\n",
       "      <th>395</th>\n",
       "      <td>234797</td>\n",
       "      <td>0.002070</td>\n",
       "      <td>0.427</td>\n",
       "      <td>0.617</td>\n",
       "      <td>0.000029</td>\n",
       "      <td>0.2410</td>\n",
       "      <td>-6.246</td>\n",
       "      <td>0.0840</td>\n",
       "      <td>113.216</td>\n",
       "      <td>0.403</td>\n",
       "    </tr>\n",
       "  </tbody>\n",
       "</table>\n",
       "<p>396 rows × 10 columns</p>\n",
       "</div>"
      ],
      "text/plain": [
       "     Length  Acousticness  Danceability  Energy  Instrumentalness  Liveness  \\\n",
       "0    242013      0.721000         0.585   0.436          0.000013    0.1050   \n",
       "1    198081      0.321000         0.677   0.696          0.000000    0.4200   \n",
       "2    238805      0.440000         0.761   0.525          0.000007    0.0921   \n",
       "3    298899      0.767000         0.332   0.225          0.003490    0.1280   \n",
       "4    141805      0.038300         0.591   0.764          0.000000    0.1030   \n",
       "..      ...           ...           ...     ...               ...       ...   \n",
       "391  197126      0.000316         0.532   0.891          0.000164    0.0836   \n",
       "392  204745      0.008930         0.463   0.908          0.000003    0.3660   \n",
       "393  211235      0.079700         0.398   0.934          0.000000    0.2450   \n",
       "394  197260      0.003330         0.462   0.973          0.000129    0.0563   \n",
       "395  234797      0.002070         0.427   0.617          0.000029    0.2410   \n",
       "\n",
       "     Loudness  Speechiness    Tempo  Valence  \n",
       "0      -8.761       0.0601  143.874    0.132  \n",
       "1      -6.181       0.1190   90.030    0.464  \n",
       "2      -6.900       0.0944   80.870    0.531  \n",
       "3      -8.697       0.0348   81.055    0.297  \n",
       "4      -5.484       0.0483  169.928    0.478  \n",
       "..        ...          ...      ...      ...  \n",
       "391    -5.349       0.0551  106.003    0.487  \n",
       "392    -4.373       0.0756   99.993    0.459  \n",
       "393    -3.581       0.0752  169.898    0.629  \n",
       "394    -3.878       0.1020  109.548    0.111  \n",
       "395    -6.246       0.0840  113.216    0.403  \n",
       "\n",
       "[396 rows x 10 columns]"
      ]
     },
     "execution_count": 15,
     "metadata": {},
     "output_type": "execute_result"
    }
   ],
   "source": [
    "X.drop(['Time_Signature'], axis=1)"
   ]
  },
  {
   "cell_type": "code",
   "execution_count": 16,
   "id": "cf3eb771",
   "metadata": {},
   "outputs": [],
   "source": [
    "from imblearn.over_sampling import RandomOverSampler\n",
    "oversample = RandomOverSampler(sampling_strategy=0.5)\n",
    "X_over, y_over = oversample.fit_resample(X, y)"
   ]
  },
  {
   "cell_type": "code",
   "execution_count": 17,
   "id": "3391fdf1",
   "metadata": {},
   "outputs": [],
   "source": [
    "X_train, X_test, y_train, y_test = train_test_split(X_over, y_over, test_size=0.2, random_state=10)"
   ]
  },
  {
   "cell_type": "code",
   "execution_count": 18,
   "id": "fa338279",
   "metadata": {},
   "outputs": [
    {
     "name": "stdout",
     "output_type": "stream",
     "text": [
      "R^2 =  0.10110344536858595\n"
     ]
    }
   ],
   "source": [
    "#linear regression\n",
    "lr = LinearRegression()\n",
    "lr.fit(X_train, y_train)\n",
    "print('R^2 = ',lr.score(X_test, y_test))"
   ]
  },
  {
   "cell_type": "code",
   "execution_count": 19,
   "id": "c66f098b",
   "metadata": {},
   "outputs": [],
   "source": [
    "y_pred = lr.predict(X_test)"
   ]
  },
  {
   "cell_type": "code",
   "execution_count": 20,
   "id": "34014463",
   "metadata": {},
   "outputs": [],
   "source": [
    "import sklearn.metrics as metrics"
   ]
  },
  {
   "cell_type": "code",
   "execution_count": 21,
   "id": "89d28f8d",
   "metadata": {},
   "outputs": [
    {
     "name": "stdout",
     "output_type": "stream",
     "text": [
      "MAE = 0.40456245498793386\n",
      "MSE = 0.20390848120183308\n",
      "RMSE = 0.4515622672476445\n"
     ]
    }
   ],
   "source": [
    "print('MAE =', metrics.mean_absolute_error(y_test, y_pred))\n",
    "print('MSE =',metrics.mean_squared_error(y_test, y_pred))\n",
    "print('RMSE =',np.sqrt(metrics.mean_squared_error(y_test, y_pred)))"
   ]
  },
  {
   "cell_type": "code",
   "execution_count": 22,
   "id": "fc572980",
   "metadata": {},
   "outputs": [],
   "source": [
    "#decision tree\n",
    "from sklearn.tree import DecisionTreeClassifier\n",
    "dt = DecisionTreeClassifier(criterion = \"entropy\", min_impurity_decrease = 0.001,min_samples_split = 100,random_state = 66)\n",
    "dt = dt.fit(X_train, y_train)"
   ]
  },
  {
   "cell_type": "code",
   "execution_count": 23,
   "id": "fc125965",
   "metadata": {},
   "outputs": [
    {
     "name": "stdout",
     "output_type": "stream",
     "text": [
      "Accuracy Score =  0.75\n"
     ]
    }
   ],
   "source": [
    "y_pred = dt.predict(X_test)\n",
    "score = metrics.accuracy_score(y_test , y_pred)\n",
    "print('Accuracy Score = ' , score)"
   ]
  },
  {
   "cell_type": "code",
   "execution_count": 24,
   "id": "0098e381",
   "metadata": {},
   "outputs": [
    {
     "data": {
      "image/png": "[encoded data removed]",
      "text/plain": [
       "<Figure size 1800x576 with 1 Axes>"
      ]
     },
     "metadata": {
      "needs_background": "light"
     },
     "output_type": "display_data"
    }
   ],
   "source": [
    "from sklearn import tree\n",
    "plt.figure(figsize=(25,8))\n",
    "tree.plot_tree(dt, feature_names = X_test.columns,filled=True)\n",
    "plt.show()"
   ]
  },
  {
   "cell_type": "code",
   "execution_count": 25,
   "id": "39565229",
   "metadata": {},
   "outputs": [],
   "source": [
    "#knn\n",
    "from sklearn.neighbors import KNeighborsClassifier\n",
    "knn = KNeighborsClassifier(n_neighbors = 10)\n",
    "knn.fit(X_train, y_train)\n",
    "knn_pred = knn.predict(X_test)"
   ]
  },
  {
   "cell_type": "code",
   "execution_count": 26,
   "id": "8b4efa5b",
   "metadata": {},
   "outputs": [
    {
     "name": "stdout",
     "output_type": "stream",
     "text": [
      "Accuracy Score =  0.6195652173913043\n"
     ]
    },
    {
     "data": {
      "text/html": [
       "<div>\n",
       "<style scoped>\n",
       "    .dataframe tbody tr th:only-of-type {\n",
       "        vertical-align: middle;\n",
       "    }\n",
       "\n",
       "    .dataframe tbody tr th {\n",
       "        vertical-align: top;\n",
       "    }\n",
       "\n",
       "    .dataframe thead th {\n",
       "        text-align: right;\n",
       "    }\n",
       "</style>\n",
       "<table border=\"1\" class=\"dataframe\">\n",
       "  <thead>\n",
       "    <tr style=\"text-align: right;\">\n",
       "      <th>Actual</th>\n",
       "      <th>False</th>\n",
       "      <th>True</th>\n",
       "    </tr>\n",
       "    <tr>\n",
       "      <th>Predicted</th>\n",
       "      <th></th>\n",
       "      <th></th>\n",
       "    </tr>\n",
       "  </thead>\n",
       "  <tbody>\n",
       "    <tr>\n",
       "      <th>False</th>\n",
       "      <td>15</td>\n",
       "      <td>18</td>\n",
       "    </tr>\n",
       "    <tr>\n",
       "      <th>True</th>\n",
       "      <td>17</td>\n",
       "      <td>42</td>\n",
       "    </tr>\n",
       "  </tbody>\n",
       "</table>\n",
       "</div>"
      ],
      "text/plain": [
       "Actual     False  True\n",
       "Predicted             \n",
       "False         15    18\n",
       "True          17    42"
      ]
     },
     "execution_count": 26,
     "metadata": {},
     "output_type": "execute_result"
    }
   ],
   "source": [
    "print('Accuracy Score = ' , metrics.accuracy_score(y_test,knn_pred))\n",
    "pd.crosstab(knn_pred, y_test,rownames = [\"Predicted\"], colnames = [\"Actual\"])"
   ]
  },
  {
   "cell_type": "code",
   "execution_count": 27,
   "id": "34faadb6",
   "metadata": {},
   "outputs": [],
   "source": [
    "#logistic regression\n",
    "from sklearn.linear_model import LogisticRegression\n",
    "logreg = LogisticRegression(C=1e9, max_iter=2000)"
   ]
  },
  {
   "cell_type": "code",
   "execution_count": 28,
   "id": "e384ef8e",
   "metadata": {},
   "outputs": [
    {
     "name": "stdout",
     "output_type": "stream",
     "text": [
      "Intercept: \n",
      " [2.29492032e-11]\n",
      "Coefficients: \n",
      " [[ 3.49398646e-06  2.03254951e-11  4.19759248e-11 -9.87208841e-12\n",
      "  -6.73598186e-13 -1.16318339e-11 -1.80959863e-10  1.38573316e-11\n",
      "   6.53795879e-10  2.94754556e-11  1.16665903e-10]]\n"
     ]
    }
   ],
   "source": [
    "logreg.fit(X_train, y_train)\n",
    "# The coefficients\n",
    "print('Intercept: \\n', logreg.intercept_)\n",
    "print('Coefficients: \\n', logreg.coef_)"
   ]
  },
  {
   "cell_type": "code",
   "execution_count": 29,
   "id": "214b3abd",
   "metadata": {},
   "outputs": [
    {
     "name": "stdout",
     "output_type": "stream",
     "text": [
      "Accuracy Score =  0.6521739130434783\n"
     ]
    }
   ],
   "source": [
    "y_test_predict = logreg.predict(X_test)\n",
    "\n",
    "print('Accuracy Score = ' , metrics.accuracy_score(y_test, y_test_predict))"
   ]
  },
  {
   "cell_type": "code",
   "execution_count": 30,
   "id": "1ee98deb",
   "metadata": {},
   "outputs": [
    {
     "data": {
      "text/plain": [
       "SVC()"
      ]
     },
     "execution_count": 30,
     "metadata": {},
     "output_type": "execute_result"
    }
   ],
   "source": [
    "#support vector machine\n",
    "from sklearn.svm import SVC\n",
    "svc = SVC(kernel='rbf')\n",
    "svc.fit(X_train , y_train)"
   ]
  },
  {
   "cell_type": "code",
   "execution_count": 31,
   "id": "97d178bf",
   "metadata": {},
   "outputs": [
    {
     "name": "stdout",
     "output_type": "stream",
     "text": [
      "Accuracy Score =  0.6521739130434783\n"
     ]
    }
   ],
   "source": [
    "y_pred = svc.predict(X_test)\n",
    "\n",
    "score = metrics.accuracy_score(y_test , y_pred)\n",
    "\n",
    "print('Accuracy Score = ' , score)"
   ]
  },
  {
   "cell_type": "code",
   "execution_count": 32,
   "id": "0c197b20",
   "metadata": {},
   "outputs": [
    {
     "name": "stdout",
     "output_type": "stream",
     "text": [
      "              precision    recall  f1-score   support\n",
      "\n",
      "       False       0.00      0.00      0.00        32\n",
      "        True       0.65      1.00      0.79        60\n",
      "\n",
      "    accuracy                           0.65        92\n",
      "   macro avg       0.33      0.50      0.39        92\n",
      "weighted avg       0.43      0.65      0.51        92\n",
      "\n"
     ]
    },
    {
     "name": "stderr",
     "output_type": "stream",
     "text": [
      "E:\\Anaconda3\\lib\\site-packages\\sklearn\\metrics\\_classification.py:1248: UndefinedMetricWarning: Precision and F-score are ill-defined and being set to 0.0 in labels with no predicted samples. Use `zero_division` parameter to control this behavior.\n",
      "  _warn_prf(average, modifier, msg_start, len(result))\n",
      "E:\\Anaconda3\\lib\\site-packages\\sklearn\\metrics\\_classification.py:1248: UndefinedMetricWarning: Precision and F-score are ill-defined and being set to 0.0 in labels with no predicted samples. Use `zero_division` parameter to control this behavior.\n",
      "  _warn_prf(average, modifier, msg_start, len(result))\n",
      "E:\\Anaconda3\\lib\\site-packages\\sklearn\\metrics\\_classification.py:1248: UndefinedMetricWarning: Precision and F-score are ill-defined and being set to 0.0 in labels with no predicted samples. Use `zero_division` parameter to control this behavior.\n",
      "  _warn_prf(average, modifier, msg_start, len(result))\n"
     ]
    }
   ],
   "source": [
    "print(metrics.classification_report(y_test, y_pred))"
   ]
  },
  {
   "cell_type": "code",
   "execution_count": 33,
   "id": "3f6769f0",
   "metadata": {},
   "outputs": [],
   "source": [
    "#ridge regression\n",
    "from sklearn.linear_model import LinearRegression, RidgeCV"
   ]
  },
  {
   "cell_type": "code",
   "execution_count": 34,
   "id": "2e3df745",
   "metadata": {},
   "outputs": [
    {
     "data": {
      "text/plain": [
       "RidgeCV(alphas=array([ 0.1,  1. , 10. ]), cv=5)"
      ]
     },
     "execution_count": 34,
     "metadata": {},
     "output_type": "execute_result"
    }
   ],
   "source": [
    "# instantiate linear regression object\n",
    "ridge = RidgeCV(cv=5)\n",
    "\n",
    "# fit or train the linear regression model on the training set and store parameters\n",
    "ridge.fit(X_train, y_train)"
   ]
  },
  {
   "cell_type": "code",
   "execution_count": 35,
   "id": "f4e28de5",
   "metadata": {},
   "outputs": [],
   "source": [
    "y_pred = ridge.predict(X_test)"
   ]
  },
  {
   "cell_type": "code",
   "execution_count": 36,
   "id": "928b3153",
   "metadata": {},
   "outputs": [
    {
     "name": "stdout",
     "output_type": "stream",
     "text": [
      "MAE = 0.4220456674867677\n",
      "MSE = 0.21079601592153988\n",
      "RMSE = 0.45912527257986996\n"
     ]
    }
   ],
   "source": [
    "print('MAE =', metrics.mean_absolute_error(y_test, y_pred))\n",
    "print('MSE =',metrics.mean_squared_error(y_test, y_pred))\n",
    "print('RMSE =',np.sqrt(metrics.mean_squared_error(y_test, y_pred)))"
   ]
  },
  {
   "cell_type": "code",
   "execution_count": 37,
   "id": "417972ed",
   "metadata": {},
   "outputs": [
    {
     "name": "stdout",
     "output_type": "stream",
     "text": [
      "R^2 =  0.07074089647921189\n"
     ]
    }
   ],
   "source": [
    "print('R^2 = ',ridge.score(X_test, y_test))"
   ]
  },
  {
   "cell_type": "code",
   "execution_count": 38,
   "id": "aa1b2a0f",
   "metadata": {},
   "outputs": [],
   "source": [
    "#Random Forest\n",
    "random_grid = {'max_depth': [2,4,6,8,10], 'min_samples_leaf': [1, 2, 4, 6]}\n",
    "rf_class = RandomForestClassifier(criterion = 'entropy', max_features = 'auto')\n",
    "grid_rf_class = GridSearchCV(\n",
    "    estimator = rf_class,\n",
    "    param_grid = random_grid,\n",
    "    scoring = 'accuracy',\n",
    "    n_jobs = 4,\n",
    "    cv = 5,\n",
    "    refit = True,\n",
    "    return_train_score = True\n",
    ")"
   ]
  },
  {
   "cell_type": "code",
   "execution_count": 39,
   "id": "b92fb702",
   "metadata": {},
   "outputs": [
    {
     "data": {
      "text/plain": [
       "GridSearchCV(cv=5, estimator=RandomForestClassifier(criterion='entropy'),\n",
       "             n_jobs=4,\n",
       "             param_grid={'max_depth': [2, 4, 6, 8, 10],\n",
       "                         'min_samples_leaf': [1, 2, 4, 6]},\n",
       "             return_train_score=True, scoring='accuracy')"
      ]
     },
     "execution_count": 39,
     "metadata": {},
     "output_type": "execute_result"
    }
   ],
   "source": [
    "grid_rf_class.fit(X_train, y_train)"
   ]
  },
  {
   "cell_type": "code",
   "execution_count": 40,
   "id": "744a4211",
   "metadata": {},
   "outputs": [],
   "source": [
    "y_pred_test = grid_rf_class.predict(X_test)"
   ]
  },
  {
   "cell_type": "code",
   "execution_count": 41,
   "id": "33273789",
   "metadata": {},
   "outputs": [
    {
     "name": "stdout",
     "output_type": "stream",
     "text": [
      "RandomForestClassifier(criterion='entropy', max_depth=10, min_samples_leaf=2)\n"
     ]
    }
   ],
   "source": [
    "print(grid_rf_class.best_estimator_)"
   ]
  },
  {
   "cell_type": "code",
   "execution_count": 42,
   "id": "bd674626",
   "metadata": {},
   "outputs": [
    {
     "name": "stdout",
     "output_type": "stream",
     "text": [
      "Accuracy: 0.86\n"
     ]
    }
   ],
   "source": [
    "accuracy = grid_rf_class.score(X_test, y_test)\n",
    "\n",
    "print('Accuracy: %.2f' % accuracy)"
   ]
  },
  {
   "cell_type": "code",
   "execution_count": 43,
   "id": "04148e1f",
   "metadata": {},
   "outputs": [
    {
     "name": "stdout",
     "output_type": "stream",
     "text": [
      "              precision    recall  f1-score   support\n",
      "\n",
      "       False       0.88      0.69      0.77        32\n",
      "        True       0.85      0.95      0.90        60\n",
      "\n",
      "    accuracy                           0.86        92\n",
      "   macro avg       0.87      0.82      0.83        92\n",
      "weighted avg       0.86      0.86      0.85        92\n",
      "\n"
     ]
    }
   ],
   "source": [
    "print(classification_report(y_test, y_pred_test))"
   ]
  },
  {
   "cell_type": "code",
   "execution_count": 44,
   "id": "4d58914b",
   "metadata": {},
   "outputs": [],
   "source": [
    "#lasso\n",
    "lasso=Lasso()\n",
    "\n",
    "lasso.fit(X_train,y_train)\n",
    "\n",
    "y_pred = lasso.predict(X_test)"
   ]
  },
  {
   "cell_type": "code",
   "execution_count": 45,
   "id": "9b5556ce",
   "metadata": {},
   "outputs": [
    {
     "name": "stdout",
     "output_type": "stream",
     "text": [
      "MAE = 0.4467726215928635\n",
      "MSE = 0.2269449941948866\n",
      "RMSE = 0.4763874412648665\n"
     ]
    }
   ],
   "source": [
    "print('MAE =', metrics.mean_absolute_error(y_test, y_pred))\n",
    "print('MSE =',metrics.mean_squared_error(y_test, y_pred))\n",
    "print('RMSE =',np.sqrt(metrics.mean_squared_error(y_test, y_pred)))"
   ]
  },
  {
   "cell_type": "code",
   "execution_count": 46,
   "id": "54cd4487",
   "metadata": {},
   "outputs": [
    {
     "name": "stdout",
     "output_type": "stream",
     "text": [
      "R^2 =  -0.00044918274245819845\n"
     ]
    }
   ],
   "source": [
    "print('R^2 = ',lasso.score(X_test, y_test))"
   ]
  }
 ],
 "metadata": {
  "kernelspec": {
   "display_name": "Python 3 (ipykernel)",
   "language": "python",
   "name": "python3"
  },
  "language_info": {
   "codemirror_mode": {
    "name": "ipython",
    "version": 3
   },
   "file_extension": ".py",
   "mimetype": "text/x-python",
   "name": "python",
   "nbconvert_exporter": "python",
   "pygments_lexer": "ipython3",
   "version": "3.9.7"
  }
 },
 "nbformat": 4,
 "nbformat_minor": 5
}
